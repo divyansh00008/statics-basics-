{
  "nbformat": 4,
  "nbformat_minor": 0,
  "metadata": {
    "colab": {
      "provenance": []
    },
    "kernelspec": {
      "name": "python3",
      "display_name": "Python 3"
    },
    "language_info": {
      "name": "python"
    }
  },
  "cells": [
    {
      "cell_type": "markdown",
      "source": [
        "\n",
        "\n",
        "  Question 1.\n",
        "  What is the difference between descriptive statistics and inferential\n",
        "statistics? Explain with examples.\n",
        "\n"
      ],
      "metadata": {
        "id": "NFNwTz57Z87z"
      }
    },
    {
      "cell_type": "markdown",
      "source": [
        "Statistics is a branch of mathematics that deals with the collection, analysis, interpretation, and presentation of data. It is broadly classified into two main categories:\n",
        "\n",
        "Descriptive Statistics\n",
        "\n",
        "Inferential Statistics\n",
        "\n",
        "Each plays a distinct role in the data analysis process.\n",
        "\n",
        "1. Descriptive Statistics:\n",
        " ->Definition:\n",
        "Descriptive statistics involves methods for summarizing and organizing data in a meaningful way. It describes the basic features of the dataset.\n",
        "\n",
        " ->Purpose:\n",
        "To describe what the data shows — it does not go beyond the given data.\n",
        "\n",
        "->Key Techniques:\n",
        "Measures of central tendency: Mean, Median, Mode\n",
        "\n",
        "Measures of dispersion: Range, Variance, Standard Deviation\n",
        "\n",
        "Graphs and charts: Bar graphs, Pie charts, Histograms, Box plots\n",
        "\n",
        "Tables and frequency distributions\n",
        "\n",
        "-> Example:\n",
        "Suppose a teacher has test scores of 50 students in a class. She calculates the average score (mean = 75), the highest score (max = 98), and displays it using a bar chart.\n",
        "\n",
        "She is using descriptive statistics to summarize the performance of her students.\n",
        "\n",
        "2. Inferential Statistics:\n",
        "-> Definition:\n",
        "Inferential statistics involves techniques that use sample data to make generalizations or predictions about a larger population.\n",
        "\n",
        "-> Purpose:\n",
        "To infer, predict, or make decisions about a population based on sample data.\n",
        "\n",
        "->Key Techniques:\n",
        "Estimation (e.g., confidence intervals)\n",
        "\n",
        "Hypothesis testing\n",
        "\n",
        "Regression analysis\n",
        "\n",
        "Correlation analysis\n",
        "\n",
        "Chi-square tests, t-tests, ANOVA, etc.\n",
        "\n",
        "-> Example:\n",
        "A researcher surveys 200 students from different colleges to estimate the average study time of all students in the country.\n",
        "\n",
        "Using the sample data, they calculate the sample mean and use it to estimate the population mean with a margin of error.\n",
        "\n",
        "This is inferential statistics — drawing conclusions about a population from a sample.\n",
        "\n",
        "\n",
        "     \n",
        "        \n"
      ],
      "metadata": {
        "id": "Kd8fzIVPbCTV"
      }
    },
    {
      "cell_type": "markdown",
      "source": [
        "QUESTION 2.\n",
        "\n",
        "\n",
        "\n",
        "\n",
        "What is sampling in statistics? Explain the differences between random\n",
        "and stratified sampling.\n"
      ],
      "metadata": {
        "id": "xmkQgsRvgqwu"
      }
    },
    {
      "cell_type": "markdown",
      "source": [
        "1. Introduction to Sampling:\n",
        "In statistics, sampling refers to the process of selecting a subset (sample) from a larger group (population) to study and make inferences about the whole population. It is impractical or impossible to study an entire population in most real-world scenarios due to constraints like time, cost, and resources.\n",
        "\n",
        "2. Definition of Sampling:\n",
        "Sampling is the statistical method of selecting a part (sample) of a population to estimate characteristics of the whole population.\n",
        "\n",
        "Sampling helps researchers draw conclusions about a population without studying every member.\n",
        "\n",
        "3. Purpose of Sampling:\n",
        "To save time and resources.\n",
        "\n",
        "To make data collection manageable.\n",
        "\n",
        "To conduct experiments or surveys more efficiently.\n",
        "\n",
        "To derive inferential statistics from samples.\n",
        "\n",
        "4. Types of Sampling Methods:\n",
        "Sampling methods are mainly divided into:\n",
        "\n",
        "Probability Sampling (e.g., Random, Stratified, Systematic, Cluster)\n",
        "\n",
        "Non-probability Sampling (e.g., Convenience, Judgmental, Snowball)\n",
        "\n",
        "In this answer, we focus on Random Sampling and Stratified Sampling, both of which are probability sampling methods.\n",
        "\n",
        "5. Random Sampling:\n",
        "-> Definition:\n",
        "In random sampling, every individual in the population has an equal chance of being selected in the sample.\n",
        "\n",
        "-> Features:\n",
        "Simple and unbiased\n",
        "\n",
        "Each member is chosen purely by chance\n",
        "\n",
        "Often done using random number generators or lottery methods\n",
        "\n",
        "->Example:\n",
        "If there are 1,000 students in a college, and you randomly select 100 students using a random number generator, that is random sampling.\n",
        "\n",
        "6. Stratified Sampling:\n",
        "-> Definition:\n",
        "In stratified sampling, the population is divided into distinct subgroups (strata) based on shared characteristics (e.g., gender, age, income), and then a random sample is taken from each subgroup.\n",
        "\n",
        "-> Features:\n",
        "Ensures representation from all key subgroups\n",
        "\n",
        "Reduces sampling bias\n",
        "\n",
        "More precise than simple random sampling, especially in heterogeneous populations\n",
        "\n",
        "->Example:\n",
        "Suppose a university has 60% female and 40% male students. If you want a sample of 100 students, stratified sampling would involve randomly selecting:\n",
        "\n",
        "60 females\n",
        "\n",
        "40 males\n",
        "from their respective groups.\n",
        "\n",
        "\n",
        "difference------>>\n",
        "\n",
        "1. Basis of Selection\n",
        "\n",
        "Random Sampling: Individuals are selected purely by chance from the entire population.\n",
        "\n",
        "Stratified Sampling: Population is divided into strata, and individuals are randomly selected from each stratum.\n",
        "\n",
        "2. Population Type\n",
        "\n",
        "Random Sampling: Best suited for homogeneous populations.\n",
        "\n",
        "Stratified Sampling: Best suited for heterogeneous populations with clear subgroups.\n",
        "\n",
        " Representation\n",
        "\n",
        "Random Sampling: Some groups may be under- or over-represented.\n",
        "\n",
        "Stratified Sampling: Ensures proportional representation of all groups.\n",
        "\n",
        "4. Accuracy\n",
        "\n",
        "Random Sampling: May give less accurate results if the population is diverse.\n",
        "\n",
        "Stratified Sampling: Provides more accurate and reliable results.\n",
        "\n",
        "5. Complexity\n",
        "\n",
        "Random Sampling: Simple and easy to conduct.\n",
        "\n",
        "Stratified Sampling: More complex due to stratification steps.\n",
        "\n",
        "6. Sampling Process\n",
        "\n",
        "Random Sampling: Select directly from the whole population.\n",
        "\n",
        "Stratified Sampling: Divide into subgroups → then randomly sample within each.\n",
        "\n",
        "\n",
        "\n",
        "\n"
      ],
      "metadata": {
        "id": "mlg_JvT_fh4Z"
      }
    },
    {
      "cell_type": "markdown",
      "source": [
        "Question 3\n",
        "\n",
        "Define mean,median and mode . Explain why these measures of central tendency are important."
      ],
      "metadata": {
        "id": "e95_GWdRhug7"
      }
    },
    {
      "cell_type": "markdown",
      "source": [
        "1. Introduction\n",
        "In statistics, understanding and summarizing data is essential. One of the most basic and important aspects of data analysis is identifying the center or typical value of a dataset. This is done using measures of central tendency. The three primary measures are:\n",
        "\n",
        "Mean\n",
        "\n",
        "Median\n",
        "\n",
        "Mode\n",
        "\n",
        "Each of these helps represent a large dataset with a single representative value, enabling easier comparison and interpretation.\n",
        "\n",
        "2. Definitions and Examples\n",
        "🔹 Mean (Arithmetic Mean)\n",
        "The mean is the average of all values in a dataset. It is found by adding all the values and dividing by the total number of values.\n",
        "\n",
        "Formula:\n",
        "\n",
        "Mean\n",
        "=\n",
        "Sum of all data values\n",
        "Number of values\n",
        "Mean=\n",
        "Number of values\n",
        "Sum of all data values\n",
        "​\n",
        "\n",
        "Example:\n",
        "For the dataset: [5, 10, 15],\n",
        "\n",
        "Mean\n",
        "=\n",
        "5\n",
        "+\n",
        "10\n",
        "+\n",
        "15\n",
        "3\n",
        "=\n",
        "30\n",
        "3\n",
        "=\n",
        "10\n",
        "Mean=\n",
        "3\n",
        "5+10+15\n",
        "​\n",
        " =\n",
        "3\n",
        "30\n",
        "​\n",
        " =10\n",
        "🔹 Median\n",
        "The median is the middle value when data is arranged in order. If the number of values is even, it is the average of the two middle values.\n",
        "\n",
        "Example:\n",
        "\n",
        "For [10, 20, 30] → Median = 20\n",
        "\n",
        "For [10, 20, 30, 40] → Median = (20 + 30) / 2 = 25\n",
        "\n",
        "🔹 Mode\n",
        "The mode is the value that appears most frequently in the dataset. A dataset may have one mode (unimodal), more than one mode (bimodal or multimodal), or no mode.\n",
        "\n",
        "Example:\n",
        "For [2, 3, 3, 4, 5] → Mode = 3\n",
        "For [1, 2, 3, 4, 5] → No mode\n",
        "\n",
        "\n",
        "3. Importance of Measures of Central Tendency\n",
        "Understanding the central value of a dataset is important in many fields like economics, education, psychology, business, etc. Here's why:\n",
        "\n",
        "1. Data Summarization\n",
        "These measures help summarize large sets of data with one value.\n",
        "\n",
        "Example: Instead of looking at every student's score, we can use the average (mean) to represent the overall performance.\n",
        "\n",
        " 2. Comparison Between Groups\n",
        "They allow easy comparison between different groups or datasets.\n",
        "\n",
        "Example: Comparing average rainfall in two cities or average marks of two classes.\n",
        "\n",
        " 3. Decision-Making Tool\n",
        "Businesses, governments, and researchers use these values for policy making and planning.\n",
        "\n",
        "Example: If the average household income is low, government subsidies may be introduced.\n",
        "\n",
        " 4. Identifying Distribution Patterns\n",
        "By comparing mean, median, and mode, we can detect skewness or outliers in the data.\n",
        "\n",
        "If Mean = Median = Mode → Symmetrical distribution\n",
        "\n",
        "If Mean >Median > Mode → Right-skewed\n",
        "\n",
        "If Mode > Median > Mean → Left-skewed\n",
        "\n",
        " 5. Foundation for Further Analysis\n",
        "Central tendency is a base for further statistical analysis like standard deviation, variance, regression, and hypothesis testing.\n",
        "\n",
        "4. When to Use Which Measure\n",
        "Measure\tBest Used When...\n",
        "Mean\t-Data is symmetrical and has no outliers.\n",
        "Median -\tData is skewed or has extreme values.\n",
        "Mode -\tYou want to know the most common item.\n",
        "\n",
        "5. Real-World Examples\n",
        "Mean: Average marks in a test or average salary in a company.\n",
        "\n",
        "Median: Median house price (helps avoid distortion from very high or low prices).\n",
        "\n",
        "Mode: Most common shoe size sold in a store.\n",
        "\n"
      ],
      "metadata": {
        "id": "oG7O4A29jMWJ"
      }
    },
    {
      "cell_type": "markdown",
      "source": [
        "Question 4.\n",
        "\n",
        "Explain skewness and kurtosis.What does a positive skew imply about the data ?\n",
        "\n",
        "\n"
      ],
      "metadata": {
        "id": "HWCz4jgckH21"
      }
    },
    {
      "cell_type": "markdown",
      "source": [
        "1. Introduction\n",
        "In statistics, understanding the shape and distribution of data is just as important as knowing its central tendency and variability. Two key concepts that help describe the shape of a data distribution are:\n",
        "\n",
        "Skewness\n",
        "\n",
        "Kurtosis\n",
        "\n",
        "These help analysts understand how data deviates from a normal distribution, which is the ideal bell-shaped curve.\n",
        "\n",
        "2. Skewness\n",
        "-> Definition:\n",
        "Skewness is a measure of the asymmetry or lack of symmetry in the distribution of data values.\n",
        "\n",
        "In a perfectly symmetrical distribution (like a normal distribution), skewness is zero.\n",
        "\n",
        "-> Types of Skewness:\n",
        " 1. Positive Skew (Right-Skewed):\n",
        "The tail of the distribution is longer on the right.\n",
        "\n",
        "The majority of values lie on the left, with a few large values pulling the mean to the right.\n",
        "\n",
        "Mean > Median > Mode\n",
        "\n",
        "Example: Income distribution — most people earn low to moderate income, and a few people earn very high incomes.\n",
        "\n",
        "2. Negative Skew (Left-Skewed):\n",
        "The tail of the distribution is longer on the left.\n",
        "\n",
        "Most data values are on the right, but a few extremely small values pull the mean down.\n",
        "\n",
        "Mean < Median < Mode\n",
        "\n",
        "Example: Age at retirement — most people retire between 60–65, but some may retire very early.\n",
        "\n",
        "3. Kurtosis\n",
        "->Definition:\n",
        "Kurtosis is a statistical measure that describes the \"tailedness\" or peakedness of a distribution — that is, how heavy or light the tails are compared to a normal distribution.\n",
        "\n",
        "Kurtosis tells us whether the data produce more or fewer outliers than a normal distribution.\n",
        "\n",
        "-> Types of Kurtosis:\n",
        " 1. Mesokurtic (Normal Kurtosis):\n",
        "Standard bell curve shape\n",
        "\n",
        "Kurtosis = 0 (when using excess kurtosis)\n",
        "\n",
        "Example: Normal distribution\n",
        "\n",
        " 2. Leptokurtic (High Kurtosis):\n",
        "Tall and sharp peak, with fat tails\n",
        "\n",
        "Indicates more frequent extreme outliers\n",
        "\n",
        "Kurtosis > 0\n",
        "\n",
        "Example: Stock market returns, which show occasional extreme gains or losses\n",
        "\n",
        " 3. Platykurtic (Low Kurtosis):\n",
        "Flat-topped curve, with thin tails\n",
        "\n",
        "Indicates fewer and less extreme outliers\n",
        "\n",
        "Kurtosis < 0\n",
        "\n",
        "Example: Exam scores where most students score around the average, and very few score too high or too low\n",
        "\n",
        "4. Positive Skew — What Does It Imply About the Data?\n",
        "When a distribution has positive skewness, it means:\n",
        "\n",
        "The tail on the right side is longer.\n",
        "\n",
        "There are a few extremely large values.\n",
        "\n",
        "The mean is greater than the median.\n",
        "\n",
        "The data is not symmetric, and there is a tendency for the data to be clustered on the lower end.\n",
        "\n",
        "It indicates the presence of outliers or extreme values on the higher side.\n",
        "\n",
        "Real-Life Examples of Positive Skew:\n",
        "Income distribution: Most people earn below the mean, but a few high earners raise the average.\n",
        "\n",
        "Housing prices: Most homes are affordable, but luxury properties pull the average up.\n",
        "\n",
        "Hospital stay duration: Most patients stay a short time, but some require long treatment.\n",
        "\n"
      ],
      "metadata": {
        "id": "v3yQF7rlkj7L"
      }
    },
    {
      "cell_type": "markdown",
      "source": [
        "Question 5.\n",
        "\n",
        "\n",
        "\n",
        " Implement a Python program to compute the mean, median, and mode of\n",
        "a given list of numbers.\n",
        "numbers = [12, 15, 12, 18, 19, 12, 20, 22, 19, 19, 24, 24, 24, 26, 28]"
      ],
      "metadata": {
        "id": "VMC9YyS-lg5F"
      }
    },
    {
      "cell_type": "code",
      "source": [
        "import statistics\n",
        "\n",
        "# Given list\n",
        "numbers = [12, 15, 12, 18, 19, 12, 20, 22, 19, 19, 24, 24, 24, 26, 28]\n",
        "\n",
        "# Calculate Mean\n",
        "mean = statistics.mean(numbers)\n",
        "\n",
        "# Calculate Median\n",
        "median = statistics.median(numbers)\n",
        "\n",
        "# Calculate Mode\n",
        "# Use multimode to handle multiple modes\n",
        "modes = statistics.multimode(numbers)\n",
        "\n",
        "# Display the results\n",
        "print(\"Mean:\", mean)\n",
        "print(\"Median:\", median)\n",
        "print(\"Mode:\", modes)\n"
      ],
      "metadata": {
        "colab": {
          "base_uri": "https://localhost:8080/"
        },
        "id": "zdbCAKTioFSM",
        "outputId": "397a77c0-c74a-4599-9cf8-5514da88709a"
      },
      "execution_count": 2,
      "outputs": [
        {
          "output_type": "stream",
          "name": "stdout",
          "text": [
            "Mean: 19.6\n",
            "Median: 19\n",
            "Mode: [12, 19, 24]\n"
          ]
        }
      ]
    },
    {
      "cell_type": "markdown",
      "source": [
        "Question 6.\n",
        "\n",
        "Compute the covariance and correlation coefficient between the following\n",
        "two datasets provided as lists in Python:\n",
        "list_x = [10, 20, 30, 40, 50]\n",
        "list_y = [15, 25, 35, 45, 60]"
      ],
      "metadata": {
        "id": "Ucym37BEoJmg"
      }
    },
    {
      "cell_type": "code",
      "source": [
        "import numpy as np\n",
        "\n",
        "# Given data\n",
        "list_x = [10, 20, 30, 40, 50]\n",
        "list_y = [15, 25, 35, 45, 60]\n",
        "\n",
        "# Convert to numpy arrays\n",
        "x = np.array(list_x)\n",
        "y = np.array(list_y)\n",
        "\n",
        "# Mean of x and y\n",
        "mean_x = np.mean(x)\n",
        "mean_y = np.mean(y)\n",
        "\n",
        "# Covariance\n",
        "covariance = np.sum((x - mean_x) * (y - mean_y)) / (len(x) - 1)\n",
        "\n",
        "# Correlation Coefficient\n",
        "correlation = np.corrcoef(x, y)[0, 1]\n",
        "\n",
        "# Output results\n",
        "print(\"Covariance:\", covariance)\n",
        "print(\"Correlation Coefficient:\", correlation)\n"
      ],
      "metadata": {
        "colab": {
          "base_uri": "https://localhost:8080/"
        },
        "id": "AViL0EVkorcO",
        "outputId": "7d677b83-7705-4cb9-a5a8-819ca0871f32"
      },
      "execution_count": 3,
      "outputs": [
        {
          "output_type": "stream",
          "name": "stdout",
          "text": [
            "Covariance: 275.0\n",
            "Correlation Coefficient: 0.995893206467704\n"
          ]
        }
      ]
    },
    {
      "cell_type": "markdown",
      "source": [
        "Question 7.\n",
        "\n",
        "Write a Python script to draw a boxplot for the following numeric list and\n",
        "identify its outliers. Explain the result:\n",
        "data = [12, 14, 14, 15, 18, 19, 19, 21, 22, 22, 23, 23, 24, 26, 29, 35]"
      ],
      "metadata": {
        "id": "MliqT1PLpGad"
      }
    },
    {
      "cell_type": "code",
      "source": [
        "import matplotlib.pyplot as plt\n",
        "import numpy as np\n",
        "\n",
        "# Given data\n",
        "data = [12, 14, 14, 15, 18, 19, 19, 21, 22, 22, 23, 23, 24, 26, 29, 35]\n",
        "\n",
        "# Draw the boxplot\n",
        "plt.boxplot(data, vert=False)\n",
        "plt.title(\"Boxplot of Data\")\n",
        "plt.xlabel(\"Value\")\n",
        "plt.grid(True)\n",
        "plt.show()\n",
        "\n",
        "# Identify outliers using IQR method\n",
        "Q1 = np.percentile(data, 25)\n",
        "Q3 = np.percentile(data, 75)\n",
        "IQR = Q3 - Q1\n",
        "\n",
        "# Outlier threshold\n",
        "lower_bound = Q1 - 1.5 * IQR\n",
        "upper_bound = Q3 + 1.5 * IQR\n",
        "\n",
        "outliers = [x for x in data if x < lower_bound or x > upper_bound]\n",
        "\n",
        "print(\"Q1:\", Q1)\n",
        "print(\"Q3:\", Q3)\n",
        "print(\"IQR:\", IQR)\n",
        "print(\"Lower Bound:\", lower_bound)\n",
        "print(\"Upper Bound:\", upper_bound)\n",
        "print(\"Outliers:\", outliers)"
      ],
      "metadata": {
        "colab": {
          "base_uri": "https://localhost:8080/",
          "height": 579
        },
        "id": "mxuCjX5JpEWR",
        "outputId": "acebf04f-d310-40a4-cb97-460bcc207e27"
      },
      "execution_count": 4,
      "outputs": [
        {
          "output_type": "display_data",
          "data": {
            "text/plain": [
              "<Figure size 640x480 with 1 Axes>"
            ],
            "image/png": "[encoded data removed]"
          },
          "metadata": {}
        },
        {
          "output_type": "stream",
          "name": "stdout",
          "text": [
            "Q1: 17.25\n",
            "Q3: 23.25\n",
            "IQR: 6.0\n",
            "Lower Bound: 8.25\n",
            "Upper Bound: 32.25\n",
            "Outliers: [35]\n"
          ]
        }
      ]
    },
    {
      "cell_type": "markdown",
      "source": [
        "Question 8.\n",
        "\n",
        "You are working as a data analyst in an e-commerce company. The\n",
        "marketing team wants to know if there is a relationship between advertising spend and\n",
        "daily sales.\n",
        "● Explain how you would use covariance and correlation to explore this\n",
        "relationship.\n",
        "● Write Python code to compute the correlation between the two lists:\n",
        "advertising_spend = [200, 250, 300, 400, 500]\n",
        "daily_sales = [2200, 2450, 2750, 3200, 4000]\n",
        "\n",
        "\n",
        "\n"
      ],
      "metadata": {
        "id": "4Dnas66lplB1"
      }
    },
    {
      "cell_type": "code",
      "source": [
        "'''\n",
        "Metric\tDescription\n",
        "Covariance\tTells whether two variables move together (positive), opposite (negative), or independently (near zero). But it doesn't show strength clearl\n",
        "\n",
        "Correlation\tMeasures the strength and direction of the linear relationship between two variables, scaled between -1 and 1.'\n",
        "\n",
        "Correlation > 0 → Positive relationship (as ads increase, sales increase)\n",
        "\n",
        "Correlation < 0 → Negative relationship\n",
        "\n",
        "Correlation ≈ 0 → No linear relationship'''\n",
        "\n",
        "import numpy as np\n",
        "\n",
        "# Sample data\n",
        "advertising_spend = [200, 250, 300, 400, 500]\n",
        "daily_sales = [2200, 2450, 2750, 3200, 4000]\n",
        "\n",
        "# Convert to NumPy arrays\n",
        "x = np.array(advertising_spend)\n",
        "y = np.array(daily_sales)\n",
        "\n",
        "# Mean of both lists\n",
        "mean_x = np.mean(x)\n",
        "mean_y = np.mean(y)\n",
        "\n",
        "# Covariance calculation\n",
        "covariance = np.sum((x - mean_x) * (y - mean_y)) / (len(x) - 1)\n",
        "\n",
        "# Correlation calculation\n",
        "correlation_matrix = np.corrcoef(x, y)\n",
        "correlation = correlation_matrix[0, 1]\n",
        "\n",
        "# Output\n",
        "print(\"Covariance:\", covariance)\n",
        "print(\"Correlation Coefficient:\", correlation)\n",
        "\n",
        "\n"
      ],
      "metadata": {
        "colab": {
          "base_uri": "https://localhost:8080/"
        },
        "id": "US3QI9InpZUw",
        "outputId": "69460cbc-b717-4fdb-c224-008bee213b89"
      },
      "execution_count": 5,
      "outputs": [
        {
          "output_type": "stream",
          "name": "stdout",
          "text": [
            "Covariance: 84875.0\n",
            "Correlation Coefficient: 0.9935824101653329\n"
          ]
        }
      ]
    },
    {
      "cell_type": "markdown",
      "source": [
        "Question 9.\n",
        "\n",
        "Your team has collected customer satisfaction survey data on a scale of\n",
        "1-10 and wants to understand its distribution before launching a new product.\n",
        "● Explain which summary statistics and visualizations (e.g. mean, standard\n",
        "deviation, histogram) you’d use.\n",
        "● Write Python code to create a histogram using Matplotlib for the survey data:\n",
        "survey_scores = [7, 8, 5, 9, 6, 7, 8, 9, 10, 4, 7, 6, 9, 8, 7]\n"
      ],
      "metadata": {
        "id": "L4hzNM0YqqHL"
      }
    },
    {
      "cell_type": "code",
      "source": [
        "'''\n",
        "To analyze customer satisfaction (scores from 1–10), we should use both summary statistics and visualizations:\n",
        "\n",
        "-> Summary Statistics\n",
        "Mean – Average satisfaction level\n",
        "\n",
        "Median – Middle score, shows central tendency\n",
        "\n",
        "Mode – Most frequent score\n",
        "\n",
        "Standard Deviation – Measures how spread out the scores are\n",
        "\n",
        "Minimum & Maximum – Range of satisfaction\n",
        "\n",
        "Skewness – Detects if the data leans toward high or low scores\n",
        "\n",
        "->Visualizations\n",
        "Histogram – Shows distribution of scores across ranges (e.g. how many rated 6, 7, 8, etc.)\n",
        "\n",
        "Boxplot – Highlights median, quartiles, and outliers\n",
        "\n",
        "Bar Plot – Good if responses are discrete and few\n",
        "\n",
        "Density Plot (optional) – Smooth version of histogram'''\n",
        "\n",
        "\n",
        "import matplotlib.pyplot as plt\n",
        "\n",
        "# Survey data\n",
        "survey_scores = [7, 8, 5, 9, 6, 7, 8, 9, 10, 4, 7, 6, 9, 8, 7]\n",
        "\n",
        "# Create histogram\n",
        "plt.hist(survey_scores, bins=7, edgecolor='black', color='skyblue')\n",
        "\n",
        "# Customize chart\n",
        "plt.title('Customer Satisfaction Score Distribution')\n",
        "plt.xlabel('Survey Score (1–10)')\n",
        "plt.ylabel('Number of Responses')\n",
        "plt.grid(axis='y', linestyle='--', alpha=0.7)\n",
        "plt.tight_layout()\n",
        "\n",
        "# Show the plot\n",
        "plt.show()\n",
        "\n",
        "\n"
      ],
      "metadata": {
        "colab": {
          "base_uri": "https://localhost:8080/",
          "height": 487
        },
        "id": "Lp2G4MQ6qnOt",
        "outputId": "d00dd01d-7cce-4d40-a61e-18fd41624588"
      },
      "execution_count": 6,
      "outputs": [
        {
          "output_type": "display_data",
          "data": {
            "text/plain": [
              "<Figure size 640x480 with 1 Axes>"
            ],
            "image/png": "[encoded data removed]"
          },
          "metadata": {}
        }
      ]
    },
    {
      "cell_type": "code",
      "source": [],
      "metadata": {
        "id": "0PETFR1qrOpY"
      },
      "execution_count": null,
      "outputs": []
    }
  ]
}